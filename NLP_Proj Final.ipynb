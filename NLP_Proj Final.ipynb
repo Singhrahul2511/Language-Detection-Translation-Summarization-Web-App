{
 "cells": [
  {
   "cell_type": "markdown",
   "metadata": {
    "id": "HPLQBanu-wu5"
   },
   "source": [
    "**Import Necessary Libraries**"
   ]
  },
  {
   "cell_type": "code",
   "execution_count": 2,
   "metadata": {
    "colab": {
     "base_uri": "https://localhost:8080/"
    },
    "id": "86-ad2-jLR9E",
    "outputId": "ec40f76c-486a-4473-c9d0-4136a5c2e95b",
    "scrolled": true
   },
   "outputs": [
    {
     "name": "stdout",
     "output_type": "stream",
     "text": [
      "Requirement already satisfied: googletrans==4.0.0-rc1 in c:\\users\\rahul\\appdata\\roaming\\python\\python312\\site-packages (4.0.0rc1)\n",
      "Collecting httpx==0.13.3 (from googletrans==4.0.0-rc1)\n",
      "  Using cached httpx-0.13.3-py3-none-any.whl.metadata (25 kB)\n",
      "Requirement already satisfied: certifi in c:\\users\\rahul\\appdata\\roaming\\python\\python312\\site-packages (from httpx==0.13.3->googletrans==4.0.0-rc1) (2024.8.30)\n",
      "Requirement already satisfied: hstspreload in c:\\users\\rahul\\appdata\\roaming\\python\\python312\\site-packages (from httpx==0.13.3->googletrans==4.0.0-rc1) (2024.4.1)\n",
      "Requirement already satisfied: sniffio in c:\\users\\rahul\\appdata\\roaming\\python\\python312\\site-packages (from httpx==0.13.3->googletrans==4.0.0-rc1) (1.3.0)\n",
      "Requirement already satisfied: chardet==3.* in c:\\users\\rahul\\appdata\\roaming\\python\\python312\\site-packages (from httpx==0.13.3->googletrans==4.0.0-rc1) (3.0.4)\n",
      "Requirement already satisfied: idna==2.* in c:\\users\\rahul\\appdata\\roaming\\python\\python312\\site-packages (from httpx==0.13.3->googletrans==4.0.0-rc1) (2.10)\n",
      "Requirement already satisfied: rfc3986<2,>=1.3 in c:\\users\\rahul\\appdata\\roaming\\python\\python312\\site-packages (from httpx==0.13.3->googletrans==4.0.0-rc1) (1.5.0)\n",
      "Collecting httpcore==0.9.* (from httpx==0.13.3->googletrans==4.0.0-rc1)\n",
      "  Using cached httpcore-0.9.1-py3-none-any.whl.metadata (4.6 kB)\n",
      "Collecting h11<0.10,>=0.8 (from httpcore==0.9.*->httpx==0.13.3->googletrans==4.0.0-rc1)\n",
      "  Using cached h11-0.9.0-py2.py3-none-any.whl.metadata (8.1 kB)\n",
      "Requirement already satisfied: h2==3.* in c:\\users\\rahul\\appdata\\roaming\\python\\python312\\site-packages (from httpcore==0.9.*->httpx==0.13.3->googletrans==4.0.0-rc1) (3.2.0)\n",
      "Requirement already satisfied: hyperframe<6,>=5.2.0 in c:\\users\\rahul\\appdata\\roaming\\python\\python312\\site-packages (from h2==3.*->httpcore==0.9.*->httpx==0.13.3->googletrans==4.0.0-rc1) (5.2.0)\n",
      "Requirement already satisfied: hpack<4,>=3.0 in c:\\users\\rahul\\appdata\\roaming\\python\\python312\\site-packages (from h2==3.*->httpcore==0.9.*->httpx==0.13.3->googletrans==4.0.0-rc1) (3.0.0)\n",
      "Using cached httpx-0.13.3-py3-none-any.whl (55 kB)\n",
      "Using cached httpcore-0.9.1-py3-none-any.whl (42 kB)\n",
      "Using cached h11-0.9.0-py2.py3-none-any.whl (53 kB)\n",
      "Installing collected packages: h11, httpcore, httpx\n",
      "\n",
      "  Attempting uninstall: h11\n",
      "\n",
      "    Found existing installation: h11 0.14.0\n",
      "\n",
      "    Uninstalling h11-0.14.0:\n",
      "\n",
      "      Successfully uninstalled h11-0.14.0\n",
      "\n",
      "   ---------------------------------------- 0/3 [h11]\n",
      "   ---------------------------------------- 0/3 [h11]\n",
      "  Attempting uninstall: httpcore\n",
      "   ---------------------------------------- 0/3 [h11]\n",
      "    Found existing installation: httpcore 1.0.6\n",
      "   ---------------------------------------- 0/3 [h11]\n",
      "   ------------- -------------------------- 1/3 [httpcore]\n",
      "    Uninstalling httpcore-1.0.6:\n",
      "   ------------- -------------------------- 1/3 [httpcore]\n",
      "      Successfully uninstalled httpcore-1.0.6\n",
      "   ------------- -------------------------- 1/3 [httpcore]\n",
      "   ------------- -------------------------- 1/3 [httpcore]\n",
      "   ------------- -------------------------- 1/3 [httpcore]\n",
      "  Attempting uninstall: httpx\n",
      "   ------------- -------------------------- 1/3 [httpcore]\n",
      "    Found existing installation: httpx 0.27.2\n",
      "   ------------- -------------------------- 1/3 [httpcore]\n",
      "   -------------------------- ------------- 2/3 [httpx]\n",
      "    Uninstalling httpx-0.27.2:\n",
      "   -------------------------- ------------- 2/3 [httpx]\n",
      "      Successfully uninstalled httpx-0.27.2\n",
      "   -------------------------- ------------- 2/3 [httpx]\n",
      "   -------------------------- ------------- 2/3 [httpx]\n",
      "   -------------------------- ------------- 2/3 [httpx]\n",
      "   ---------------------------------------- 3/3 [httpx]\n",
      "\n",
      "Successfully installed h11-0.14.0 httpcore-0.9.1 httpx-0.13.3\n",
      "Note: you may need to restart the kernel to use updated packages.\n"
     ]
    },
    {
     "name": "stderr",
     "output_type": "stream",
     "text": [
      "WARNING: Ignoring invalid distribution ~ympy (C:\\Users\\Rahul\\anaconda3\\Lib\\site-packages)\n",
      "WARNING: Error parsing dependencies of textract: .* suffix can only be used with `==` or `!=` operators\n",
      "    extract-msg (<=0.29.*)\n",
      "                 ~~~~~~~^\n",
      "WARNING: Ignoring invalid distribution ~ympy (C:\\Users\\Rahul\\anaconda3\\Lib\\site-packages)\n",
      "WARNING: Ignoring invalid distribution ~ympy (C:\\Users\\Rahul\\anaconda3\\Lib\\site-packages)\n",
      "ERROR: pip's dependency resolver does not currently take into account all the packages that are installed. This behaviour is the source of the following dependency conflicts.\n",
      "jupyterlab 4.1.4 requires httpx>=0.25.0, but you have httpx 0.13.3 which is incompatible.\n",
      "langsmith 0.1.129 requires httpx<1,>=0.23.0, but you have httpx 0.13.3 which is incompatible.\n",
      "openai 1.50.2 requires httpx<1,>=0.23.0, but you have httpx 0.13.3 which is incompatible.\n"
     ]
    }
   ],
   "source": [
    "pip install googletrans==4.0.0-rc1"
   ]
  },
  {
   "cell_type": "code",
   "execution_count": 3,
   "metadata": {
    "id": "k3qURG8q-kg7"
   },
   "outputs": [],
   "source": [
    "import pandas as pd\n",
    "import numpy as np\n",
    "from sklearn.feature_extraction.text import CountVectorizer\n",
    "from sklearn.naive_bayes import MultinomialNB\n",
    "from sklearn.metrics import classification_report\n",
    "import pickle\n",
    "import sklearn"
   ]
  },
  {
   "cell_type": "code",
   "execution_count": 4,
   "metadata": {
    "colab": {
     "base_uri": "https://localhost:8080/"
    },
    "id": "gBAa2RC9USBW",
    "outputId": "72c488fc-d3e3-4d41-db83-14c2186bf882"
   },
   "outputs": [],
   "source": [
    "# print(\"numpy\",np.__version__)\n",
    "# print(\"pandas\",pd.__version__)\n",
    "# print(\"sklearn\",sklearn.__version__)"
   ]
  },
  {
   "cell_type": "code",
   "execution_count": 5,
   "metadata": {
    "colab": {
     "base_uri": "https://localhost:8080/",
     "height": 206
    },
    "id": "fR2z50L6_WAg",
    "outputId": "0e22f4f5-ef58-4dcf-a57f-d6cbe01e6ad5"
   },
   "outputs": [
    {
     "data": {
      "text/html": [
       "<div>\n",
       "<style scoped>\n",
       "    .dataframe tbody tr th:only-of-type {\n",
       "        vertical-align: middle;\n",
       "    }\n",
       "\n",
       "    .dataframe tbody tr th {\n",
       "        vertical-align: top;\n",
       "    }\n",
       "\n",
       "    .dataframe thead th {\n",
       "        text-align: right;\n",
       "    }\n",
       "</style>\n",
       "<table border=\"1\" class=\"dataframe\">\n",
       "  <thead>\n",
       "    <tr style=\"text-align: right;\">\n",
       "      <th></th>\n",
       "      <th>Text</th>\n",
       "      <th>language</th>\n",
       "    </tr>\n",
       "  </thead>\n",
       "  <tbody>\n",
       "    <tr>\n",
       "      <th>0</th>\n",
       "      <td>klement gottwaldi surnukeha palsameeriti ning ...</td>\n",
       "      <td>Estonian</td>\n",
       "    </tr>\n",
       "    <tr>\n",
       "      <th>1</th>\n",
       "      <td>sebes joseph pereira thomas  på eng the jesuit...</td>\n",
       "      <td>Swedish</td>\n",
       "    </tr>\n",
       "    <tr>\n",
       "      <th>2</th>\n",
       "      <td>ถนนเจริญกรุง อักษรโรมัน thanon charoen krung เ...</td>\n",
       "      <td>Thai</td>\n",
       "    </tr>\n",
       "    <tr>\n",
       "      <th>3</th>\n",
       "      <td>விசாகப்பட்டினம் தமிழ்ச்சங்கத்தை இந்துப் பத்திர...</td>\n",
       "      <td>Tamil</td>\n",
       "    </tr>\n",
       "    <tr>\n",
       "      <th>4</th>\n",
       "      <td>de spons behoort tot het geslacht haliclona en...</td>\n",
       "      <td>Dutch</td>\n",
       "    </tr>\n",
       "  </tbody>\n",
       "</table>\n",
       "</div>"
      ],
      "text/plain": [
       "                                                Text  language\n",
       "0  klement gottwaldi surnukeha palsameeriti ning ...  Estonian\n",
       "1  sebes joseph pereira thomas  på eng the jesuit...   Swedish\n",
       "2  ถนนเจริญกรุง อักษรโรมัน thanon charoen krung เ...      Thai\n",
       "3  விசாகப்பட்டினம் தமிழ்ச்சங்கத்தை இந்துப் பத்திர...     Tamil\n",
       "4  de spons behoort tot het geslacht haliclona en...     Dutch"
      ]
     },
     "execution_count": 5,
     "metadata": {},
     "output_type": "execute_result"
    }
   ],
   "source": [
    "data = pd.read_csv(\"language.csv\")\n",
    "data.head()"
   ]
  },
  {
   "cell_type": "code",
   "execution_count": 6,
   "metadata": {
    "id": "vx-p8h75_-CP"
   },
   "outputs": [],
   "source": [
    "from sklearn.feature_extraction.text import CountVectorizer\n",
    "from sklearn.model_selection import train_test_split\n",
    "from sklearn.naive_bayes import MultinomialNB"
   ]
  },
  {
   "cell_type": "code",
   "execution_count": 7,
   "metadata": {
    "colab": {
     "base_uri": "https://localhost:8080/",
     "height": 147
    },
    "id": "ECOQ1HakDDbG",
    "outputId": "fc75f6ca-e6c9-406c-8fc2-9fda31dd355b"
   },
   "outputs": [
    {
     "data": {
      "text/plain": [
       "Text        0\n",
       "language    0\n",
       "dtype: int64"
      ]
     },
     "execution_count": 7,
     "metadata": {},
     "output_type": "execute_result"
    }
   ],
   "source": [
    "data.isnull().sum()"
   ]
  },
  {
   "cell_type": "code",
   "execution_count": 8,
   "metadata": {
    "colab": {
     "base_uri": "https://localhost:8080/",
     "height": 805
    },
    "id": "pOTQKTQiDFuh",
    "outputId": "e60b2702-27c3-4028-93f0-92ef094219bc"
   },
   "outputs": [
    {
     "data": {
      "text/plain": [
       "language\n",
       "Estonian      1000\n",
       "Swedish       1000\n",
       "English       1000\n",
       "Russian       1000\n",
       "Romanian      1000\n",
       "Persian       1000\n",
       "Pushto        1000\n",
       "Spanish       1000\n",
       "Hindi         1000\n",
       "Korean        1000\n",
       "Chinese       1000\n",
       "French        1000\n",
       "Portugese     1000\n",
       "Indonesian    1000\n",
       "Urdu          1000\n",
       "Latin         1000\n",
       "Turkish       1000\n",
       "Japanese      1000\n",
       "Dutch         1000\n",
       "Tamil         1000\n",
       "Thai          1000\n",
       "Arabic        1000\n",
       "Name: count, dtype: int64"
      ]
     },
     "execution_count": 8,
     "metadata": {},
     "output_type": "execute_result"
    }
   ],
   "source": [
    "data[\"language\"].value_counts()"
   ]
  },
  {
   "cell_type": "markdown",
   "metadata": {
    "id": "hxHM6Dc1Dd2y"
   },
   "source": [
    "**type of data in dataset**"
   ]
  },
  {
   "cell_type": "code",
   "execution_count": 10,
   "metadata": {
    "colab": {
     "base_uri": "https://localhost:8080/",
     "height": 147
    },
    "id": "Pc0UTvaJDN6j",
    "outputId": "0d26d72e-65f6-41a7-b14c-cc4b0a8ed58e"
   },
   "outputs": [
    {
     "data": {
      "text/plain": [
       "Text        object\n",
       "language    object\n",
       "dtype: object"
      ]
     },
     "execution_count": 10,
     "metadata": {},
     "output_type": "execute_result"
    }
   ],
   "source": [
    "data.dtypes"
   ]
  },
  {
   "cell_type": "code",
   "execution_count": 11,
   "metadata": {
    "id": "MwXLoJ3GDkkX"
   },
   "outputs": [],
   "source": [
    "x = np.array(data[\"Text\"])\n",
    "y = np.array(data[\"language\"])"
   ]
  },
  {
   "cell_type": "code",
   "execution_count": 12,
   "metadata": {
    "colab": {
     "base_uri": "https://localhost:8080/"
    },
    "id": "QjmisbMkDusO",
    "outputId": "03381f27-d0a5-4266-9d18-157318058c1a"
   },
   "outputs": [
    {
     "name": "stdout",
     "output_type": "stream",
     "text": [
      "['klement gottwaldi surnukeha palsameeriti ning paigutati mausoleumi surnukeha oli aga liiga hilja ja oskamatult palsameeritud ning hakkas ilmutama lagunemise tundemärke  aastal viidi ta surnukeha mausoleumist ära ja kremeeriti zlíni linn kandis aastatel – nime gottwaldov ukrainas harkivi oblastis kandis zmiivi linn aastatel – nime gotvald'\n",
      " 'sebes joseph pereira thomas  på eng the jesuits and the sino-russian treaty of nerchinsk  the diary of thomas pereira bibliotheca instituti historici s i --   rome libris '\n",
      " 'ถนนเจริญกรุง อักษรโรมัน thanon charoen krung เริ่มตั้งแต่ถนนสนามไชยถึงแม่น้ำเจ้าพระยาที่ถนนตก กรุงเทพมหานคร เป็นถนนรุ่นแรกที่ใช้เทคนิคการสร้างแบบตะวันตก ปัจจุบันผ่านพื้นที่เขตพระนคร เขตป้อมปราบศัตรูพ่าย เขตสัมพันธวงศ์ เขตบางรัก เขตสาทร และเขตบางคอแหลม'\n",
      " ...\n",
      " 'con motivo de la celebración del septuagésimoquinto ° aniversario de la fundación del departamento en  guillermo ceballos espinosa presentó a la gobernación de caldas por encargo de su titular dilia estrada de gómez el himno que fue adoptado para solemnizar dicha efemérides y que siguieron interpretando las bandas de música y los planteles de educación de esta sección del país en retretas y actos oficiales con gran aceptación[]\\u200b'\n",
      " '年月，當時還只有歲的她在美國出道，以mai-k名義推出首張英文《baby i like》，由美國的獨立廠牌bip·record發行，以外國輸入盤的形式在日本發售，旋即被抢购一空。其後於月日發行以倉木麻衣名義發行的首張日文單曲《love day after tomorrow》，正式於日本出道。這張單曲初動銷量只得約萬張，可是其後每週銷量一直上升，並於年月正式突破百萬銷量，合计万张。成為年最耀眼的新人歌手。'\n",
      " ' aprilie sonda spațială messenger a nasa și-a încheiat misiunea de studiu de  ani prăbușindu-se pe suprafața planetei mercur sonda a rămas fără combustibil fiind împinsă de gravitația solară din ce în ce mai aproape de mercur']\n",
      "['Estonian' 'Swedish' 'Thai' ... 'Spanish' 'Chinese' 'Romanian']\n"
     ]
    }
   ],
   "source": [
    "print(x)\n",
    "print(y)"
   ]
  },
  {
   "cell_type": "code",
   "execution_count": 13,
   "metadata": {
    "id": "qyYiLndOD3Lm"
   },
   "outputs": [],
   "source": [
    "cv = CountVectorizer()\n",
    "X = cv.fit_transform(x)"
   ]
  },
  {
   "cell_type": "code",
   "execution_count": 14,
   "metadata": {
    "id": "bY105BWSET4E"
   },
   "outputs": [],
   "source": [
    "x_train, x_test, y_train, y_test = train_test_split(X, y, test_size=0.33, random_state=42)"
   ]
  },
  {
   "cell_type": "code",
   "execution_count": 15,
   "metadata": {
    "colab": {
     "base_uri": "https://localhost:8080/"
    },
    "id": "-8nYQagsEziD",
    "outputId": "95fdddd2-059c-4018-ad48-d066b2563c61"
   },
   "outputs": [
    {
     "data": {
      "text/plain": [
       "<14740x277720 sparse matrix of type '<class 'numpy.int64'>'\n",
       "\twith 613529 stored elements in Compressed Sparse Row format>"
      ]
     },
     "execution_count": 15,
     "metadata": {},
     "output_type": "execute_result"
    }
   ],
   "source": [
    "x_train"
   ]
  },
  {
   "cell_type": "code",
   "execution_count": 16,
   "metadata": {
    "colab": {
     "base_uri": "https://localhost:8080/"
    },
    "id": "eGfzKxVAE3sl",
    "outputId": "a0c30a51-719d-4d5a-aff2-b64313f3cd45"
   },
   "outputs": [
    {
     "name": "stdout",
     "output_type": "stream",
     "text": [
      "  (0, 197295)\t2\n",
      "  (0, 197708)\t1\n",
      "  (0, 197801)\t1\n",
      "  (0, 198388)\t1\n",
      "  (0, 197467)\t1\n",
      "  (0, 197865)\t2\n",
      "  (0, 197604)\t1\n",
      "  (0, 198428)\t1\n",
      "  (0, 198501)\t1\n",
      "  (0, 198556)\t1\n",
      "  (0, 197332)\t1\n",
      "  (0, 197485)\t2\n",
      "  (0, 198123)\t1\n",
      "  (0, 197892)\t1\n",
      "  (0, 197990)\t1\n",
      "  (0, 198053)\t1\n",
      "  (0, 198417)\t1\n",
      "  (0, 197623)\t1\n",
      "  (1, 197641)\t2\n",
      "  (1, 197314)\t1\n",
      "  (1, 197931)\t1\n",
      "  (1, 197804)\t3\n",
      "  (1, 198397)\t1\n",
      "  (1, 197149)\t1\n",
      "  (1, 197781)\t1\n",
      "  :\t:\n",
      "  (14738, 188817)\t1\n",
      "  (14738, 192004)\t1\n",
      "  (14738, 157171)\t1\n",
      "  (14738, 190346)\t1\n",
      "  (14738, 190725)\t1\n",
      "  (14738, 189685)\t1\n",
      "  (14738, 159269)\t2\n",
      "  (14738, 145431)\t1\n",
      "  (14738, 173292)\t1\n",
      "  (14738, 176062)\t1\n",
      "  (14738, 159959)\t1\n",
      "  (14738, 190198)\t1\n",
      "  (14738, 167124)\t1\n",
      "  (14738, 168158)\t1\n",
      "  (14738, 180260)\t2\n",
      "  (14738, 153262)\t1\n",
      "  (14738, 162150)\t1\n",
      "  (14738, 153355)\t1\n",
      "  (14738, 178104)\t1\n",
      "  (14738, 163770)\t1\n",
      "  (14739, 223002)\t1\n",
      "  (14739, 235170)\t1\n",
      "  (14739, 222446)\t1\n",
      "  (14739, 221922)\t1\n",
      "  (14739, 242446)\t1\n"
     ]
    }
   ],
   "source": [
    "print(x_train)"
   ]
  },
  {
   "cell_type": "code",
   "execution_count": 17,
   "metadata": {
    "colab": {
     "base_uri": "https://localhost:8080/"
    },
    "id": "9BmcVEFGE70r",
    "outputId": "515073a5-f87f-413d-8156-d632cdd484d3"
   },
   "outputs": [
    {
     "data": {
      "text/plain": [
       "array(['Japanese', 'Russian', 'Latin', ..., 'Turkish', 'Arabic',\n",
       "       'English'], dtype=object)"
      ]
     },
     "execution_count": 17,
     "metadata": {},
     "output_type": "execute_result"
    }
   ],
   "source": [
    "y_test"
   ]
  },
  {
   "cell_type": "markdown",
   "metadata": {
    "id": "45457Z4MFLu2"
   },
   "source": [
    "**Model Building**"
   ]
  },
  {
   "cell_type": "code",
   "execution_count": 19,
   "metadata": {
    "colab": {
     "base_uri": "https://localhost:8080/",
     "height": 80
    },
    "id": "5epoKu4pFB_E",
    "outputId": "e8fa8a42-4c82-459a-c9f2-45ee70b4010a"
   },
   "outputs": [
    {
     "data": {
      "text/html": [
       "<style>#sk-container-id-1 {color: black;}#sk-container-id-1 pre{padding: 0;}#sk-container-id-1 div.sk-toggleable {background-color: white;}#sk-container-id-1 label.sk-toggleable__label {cursor: pointer;display: block;width: 100%;margin-bottom: 0;padding: 0.3em;box-sizing: border-box;text-align: center;}#sk-container-id-1 label.sk-toggleable__label-arrow:before {content: \"▸\";float: left;margin-right: 0.25em;color: #696969;}#sk-container-id-1 label.sk-toggleable__label-arrow:hover:before {color: black;}#sk-container-id-1 div.sk-estimator:hover label.sk-toggleable__label-arrow:before {color: black;}#sk-container-id-1 div.sk-toggleable__content {max-height: 0;max-width: 0;overflow: hidden;text-align: left;background-color: #f0f8ff;}#sk-container-id-1 div.sk-toggleable__content pre {margin: 0.2em;color: black;border-radius: 0.25em;background-color: #f0f8ff;}#sk-container-id-1 input.sk-toggleable__control:checked~div.sk-toggleable__content {max-height: 200px;max-width: 100%;overflow: auto;}#sk-container-id-1 input.sk-toggleable__control:checked~label.sk-toggleable__label-arrow:before {content: \"▾\";}#sk-container-id-1 div.sk-estimator input.sk-toggleable__control:checked~label.sk-toggleable__label {background-color: #d4ebff;}#sk-container-id-1 div.sk-label input.sk-toggleable__control:checked~label.sk-toggleable__label {background-color: #d4ebff;}#sk-container-id-1 input.sk-hidden--visually {border: 0;clip: rect(1px 1px 1px 1px);clip: rect(1px, 1px, 1px, 1px);height: 1px;margin: -1px;overflow: hidden;padding: 0;position: absolute;width: 1px;}#sk-container-id-1 div.sk-estimator {font-family: monospace;background-color: #f0f8ff;border: 1px dotted black;border-radius: 0.25em;box-sizing: border-box;margin-bottom: 0.5em;}#sk-container-id-1 div.sk-estimator:hover {background-color: #d4ebff;}#sk-container-id-1 div.sk-parallel-item::after {content: \"\";width: 100%;border-bottom: 1px solid gray;flex-grow: 1;}#sk-container-id-1 div.sk-label:hover label.sk-toggleable__label {background-color: #d4ebff;}#sk-container-id-1 div.sk-serial::before {content: \"\";position: absolute;border-left: 1px solid gray;box-sizing: border-box;top: 0;bottom: 0;left: 50%;z-index: 0;}#sk-container-id-1 div.sk-serial {display: flex;flex-direction: column;align-items: center;background-color: white;padding-right: 0.2em;padding-left: 0.2em;position: relative;}#sk-container-id-1 div.sk-item {position: relative;z-index: 1;}#sk-container-id-1 div.sk-parallel {display: flex;align-items: stretch;justify-content: center;background-color: white;position: relative;}#sk-container-id-1 div.sk-item::before, #sk-container-id-1 div.sk-parallel-item::before {content: \"\";position: absolute;border-left: 1px solid gray;box-sizing: border-box;top: 0;bottom: 0;left: 50%;z-index: -1;}#sk-container-id-1 div.sk-parallel-item {display: flex;flex-direction: column;z-index: 1;position: relative;background-color: white;}#sk-container-id-1 div.sk-parallel-item:first-child::after {align-self: flex-end;width: 50%;}#sk-container-id-1 div.sk-parallel-item:last-child::after {align-self: flex-start;width: 50%;}#sk-container-id-1 div.sk-parallel-item:only-child::after {width: 0;}#sk-container-id-1 div.sk-dashed-wrapped {border: 1px dashed gray;margin: 0 0.4em 0.5em 0.4em;box-sizing: border-box;padding-bottom: 0.4em;background-color: white;}#sk-container-id-1 div.sk-label label {font-family: monospace;font-weight: bold;display: inline-block;line-height: 1.2em;}#sk-container-id-1 div.sk-label-container {text-align: center;}#sk-container-id-1 div.sk-container {/* jupyter's `normalize.less` sets `[hidden] { display: none; }` but bootstrap.min.css set `[hidden] { display: none !important; }` so we also need the `!important` here to be able to override the default hidden behavior on the sphinx rendered scikit-learn.org. See: https://github.com/scikit-learn/scikit-learn/issues/21755 */display: inline-block !important;position: relative;}#sk-container-id-1 div.sk-text-repr-fallback {display: none;}</style><div id=\"sk-container-id-1\" class=\"sk-top-container\"><div class=\"sk-text-repr-fallback\"><pre>MultinomialNB()</pre><b>In a Jupyter environment, please rerun this cell to show the HTML representation or trust the notebook. <br />On GitHub, the HTML representation is unable to render, please try loading this page with nbviewer.org.</b></div><div class=\"sk-container\" hidden><div class=\"sk-item\"><div class=\"sk-estimator sk-toggleable\"><input class=\"sk-toggleable__control sk-hidden--visually\" id=\"sk-estimator-id-1\" type=\"checkbox\" checked><label for=\"sk-estimator-id-1\" class=\"sk-toggleable__label sk-toggleable__label-arrow\">MultinomialNB</label><div class=\"sk-toggleable__content\"><pre>MultinomialNB()</pre></div></div></div></div></div>"
      ],
      "text/plain": [
       "MultinomialNB()"
      ]
     },
     "execution_count": 19,
     "metadata": {},
     "output_type": "execute_result"
    }
   ],
   "source": [
    "model = MultinomialNB()\n",
    "model.fit(x_train,y_train)"
   ]
  },
  {
   "cell_type": "code",
   "execution_count": 20,
   "metadata": {
    "colab": {
     "base_uri": "https://localhost:8080/"
    },
    "id": "qdqYHkhSFeng",
    "outputId": "65460e16-78ee-49c2-9d0f-a804c9680e40"
   },
   "outputs": [
    {
     "data": {
      "text/plain": [
       "0.953168044077135"
      ]
     },
     "execution_count": 20,
     "metadata": {},
     "output_type": "execute_result"
    }
   ],
   "source": [
    "model.score(x_test,y_test)"
   ]
  },
  {
   "cell_type": "markdown",
   "metadata": {
    "id": "ASLI9fCLHZSp"
   },
   "source": [
    "**Language Translation**"
   ]
  },
  {
   "cell_type": "code",
   "execution_count": 22,
   "metadata": {
    "colab": {
     "base_uri": "https://localhost:8080/"
    },
    "id": "h00QcSrLJnnU",
    "outputId": "5635fe8f-f266-4f2a-f283-48813ed50c8c",
    "scrolled": true
   },
   "outputs": [
    {
     "name": "stdout",
     "output_type": "stream",
     "text": [
      "Model accuracy: 0.953168044077135\n"
     ]
    }
   ],
   "source": [
    "from googletrans import Translator\n",
    "print(f\"Model accuracy: {model.score(x_test, y_test)}\")"
   ]
  },
  {
   "cell_type": "code",
   "execution_count": 23,
   "metadata": {
    "id": "Qv-HrtO4JtK3"
   },
   "outputs": [],
   "source": [
    "translator = Translator()"
   ]
  },
  {
   "cell_type": "code",
   "execution_count": 24,
   "metadata": {
    "colab": {
     "base_uri": "https://localhost:8080/"
    },
    "id": "Ns3Paqx8J3V7",
    "outputId": "c5760686-3d7c-4f1e-b670-68787abd012f"
   },
   "outputs": [
    {
     "name": "stdin",
     "output_type": "stream",
     "text": [
      "Enter a Text:  hi\n"
     ]
    },
    {
     "name": "stdout",
     "output_type": "stream",
     "text": [
      "Detected language: Latin\n",
      "Detected language 'Latin' not found in language code mapping.\n"
     ]
    },
    {
     "name": "stdin",
     "output_type": "stream",
     "text": [
      "Enter the target language code (e.g., 'en' for English, 'hi' for hindi):  rahul\n"
     ]
    },
    {
     "name": "stdout",
     "output_type": "stream",
     "text": [
      "Error occurred during translation: invalid destination language\n"
     ]
    }
   ],
   "source": [
    "user = input(\"Enter a Text: \")\n",
    "\n",
    "# Detect the language of the user input\n",
    "data_input = cv.transform([user]).toarray()\n",
    "detected_language = model.predict(data_input)[0]\n",
    "print(f\"Detected language: {detected_language}\")\n",
    "\n",
    "# Language code mapping (based on your dataset)\n",
    "language_code_map = {\n",
    "    'English': 'en', 'Spanish': 'es', 'French': 'fr', 'German': 'de',\n",
    "    'Hindi': 'hi', 'Chinese': 'zh-cn', 'Japanese': 'ja', 'Russian': 'ru',\n",
    "    # Add all the languages available in your dataset here with their language codes\n",
    "}\n",
    "\n",
    "# Get the Google Translate API language code for the detected language\n",
    "if detected_language in language_code_map:\n",
    "    source_language_code = language_code_map[detected_language]\n",
    "else:\n",
    "    print(f\"Detected language '{detected_language}' not found in language code mapping.\")\n",
    "    source_language_code = 'auto'  # Default to auto-detect if not in mapping\n",
    "\n",
    "# Let user select target language for translation\n",
    "target_language_code = input(\"Enter the target language code (e.g., 'en' for English, 'hi' for hindi): \")\n",
    "\n",
    "# Translate the text into the target language\n",
    "try:\n",
    "    translation = translator.translate(user, src=source_language_code, dest=target_language_code)\n",
    "    print(f\"Translation: {translation.text}\")\n",
    "except Exception as e:\n",
    "    print(f\"Error occurred during translation: {e}\")"
   ]
  },
  {
   "cell_type": "code",
   "execution_count": 25,
   "metadata": {
    "colab": {
     "base_uri": "https://localhost:8080/"
    },
    "id": "NG7bk_eZJ9p-",
    "outputId": "df08e804-7733-4f62-f14f-5c62fc138944"
   },
   "outputs": [
    {
     "name": "stdout",
     "output_type": "stream",
     "text": [
      "              precision    recall  f1-score   support\n",
      "\n",
      "      Arabic       1.00      1.00      1.00       341\n",
      "     Chinese       0.93      0.50      0.65       317\n",
      "       Dutch       0.99      0.99      0.99       346\n",
      "     English       0.70      1.00      0.82       333\n",
      "    Estonian       0.99      0.96      0.97       338\n",
      "      French       0.95      0.99      0.97       324\n",
      "       Hindi       1.00      0.98      0.99       341\n",
      "  Indonesian       0.99      0.97      0.98       318\n",
      "    Japanese       0.69      0.87      0.77       328\n",
      "      Korean       1.00      0.98      0.99       325\n",
      "       Latin       0.99      0.91      0.95       346\n",
      "     Persian       1.00      1.00      1.00       323\n",
      "   Portugese       1.00      0.96      0.98       318\n",
      "      Pushto       1.00      0.97      0.98       328\n",
      "    Romanian       0.99      0.98      0.99       324\n",
      "     Russian       0.99      0.99      0.99       332\n",
      "     Spanish       0.97      0.99      0.98       322\n",
      "     Swedish       0.99      1.00      0.99       317\n",
      "       Tamil       1.00      0.98      0.99       330\n",
      "        Thai       1.00      0.98      0.99       335\n",
      "     Turkish       0.99      0.98      0.98       327\n",
      "        Urdu       1.00      0.98      0.99       347\n",
      "\n",
      "    accuracy                           0.95      7260\n",
      "   macro avg       0.96      0.95      0.95      7260\n",
      "weighted avg       0.96      0.95      0.95      7260\n",
      "\n"
     ]
    }
   ],
   "source": [
    "y_pred = model.predict(x_test)\n",
    "print(classification_report(y_test, y_pred))"
   ]
  },
  {
   "cell_type": "code",
   "execution_count": 68,
   "metadata": {
    "id": "e6eOCNwaTa8L"
   },
   "outputs": [],
   "source": [
    "with open('model.pkl', 'wb') as file:\n",
    "    pickle.dump(model, file)"
   ]
  },
  {
   "cell_type": "code",
   "execution_count": 70,
   "metadata": {
    "id": "PxMdCrdtU0PA"
   },
   "outputs": [],
   "source": [
    "with open('vectorizer.pkl', 'wb') as f:\n",
    "    pickle.dump(cv, f)\n"
   ]
  },
  {
   "cell_type": "markdown",
   "metadata": {
    "id": "2Ik_Yi7FrFLd"
   },
   "source": []
  },
  {
   "cell_type": "markdown",
   "metadata": {
    "id": "870R1E1prFHG"
   },
   "source": []
  },
  {
   "cell_type": "markdown",
   "metadata": {
    "id": "r6uTv2B3rFDP"
   },
   "source": []
  },
  {
   "cell_type": "markdown",
   "metadata": {
    "id": "blE64W3yrQOu"
   },
   "source": []
  },
  {
   "cell_type": "code",
   "execution_count": 32,
   "metadata": {
    "colab": {
     "base_uri": "https://localhost:8080/"
    },
    "id": "S_ytzgw_u88X",
    "outputId": "88c72667-d233-432c-c5e9-395bb1e6c914"
   },
   "outputs": [
    {
     "name": "stdout",
     "output_type": "stream",
     "text": [
      "Requirement already satisfied: googletrans==4.0.0-rc1 in c:\\users\\rahul\\appdata\\roaming\\python\\python312\\site-packages (4.0.0rc1)\n",
      "Requirement already satisfied: gradio in c:\\users\\rahul\\appdata\\roaming\\python\\python312\\site-packages (4.19.1)\n",
      "Requirement already satisfied: httpx==0.13.3 in c:\\users\\rahul\\anaconda3\\lib\\site-packages (from googletrans==4.0.0-rc1) (0.13.3)\n",
      "Requirement already satisfied: certifi in c:\\users\\rahul\\appdata\\roaming\\python\\python312\\site-packages (from httpx==0.13.3->googletrans==4.0.0-rc1) (2024.8.30)\n",
      "Requirement already satisfied: hstspreload in c:\\users\\rahul\\appdata\\roaming\\python\\python312\\site-packages (from httpx==0.13.3->googletrans==4.0.0-rc1) (2024.4.1)\n",
      "Requirement already satisfied: sniffio in c:\\users\\rahul\\appdata\\roaming\\python\\python312\\site-packages (from httpx==0.13.3->googletrans==4.0.0-rc1) (1.3.0)\n",
      "Requirement already satisfied: chardet==3.* in c:\\users\\rahul\\appdata\\roaming\\python\\python312\\site-packages (from httpx==0.13.3->googletrans==4.0.0-rc1) (3.0.4)\n",
      "Requirement already satisfied: idna==2.* in c:\\users\\rahul\\appdata\\roaming\\python\\python312\\site-packages (from httpx==0.13.3->googletrans==4.0.0-rc1) (2.10)\n",
      "Requirement already satisfied: rfc3986<2,>=1.3 in c:\\users\\rahul\\appdata\\roaming\\python\\python312\\site-packages (from httpx==0.13.3->googletrans==4.0.0-rc1) (1.5.0)\n",
      "Requirement already satisfied: httpcore==0.9.* in c:\\users\\rahul\\anaconda3\\lib\\site-packages (from httpx==0.13.3->googletrans==4.0.0-rc1) (0.9.1)\n",
      "Collecting h11<0.10,>=0.8 (from httpcore==0.9.*->httpx==0.13.3->googletrans==4.0.0-rc1)\n",
      "  Using cached h11-0.9.0-py2.py3-none-any.whl.metadata (8.1 kB)\n",
      "Requirement already satisfied: h2==3.* in c:\\users\\rahul\\appdata\\roaming\\python\\python312\\site-packages (from httpcore==0.9.*->httpx==0.13.3->googletrans==4.0.0-rc1) (3.2.0)\n",
      "Requirement already satisfied: hyperframe<6,>=5.2.0 in c:\\users\\rahul\\appdata\\roaming\\python\\python312\\site-packages (from h2==3.*->httpcore==0.9.*->httpx==0.13.3->googletrans==4.0.0-rc1) (5.2.0)\n",
      "Requirement already satisfied: hpack<4,>=3.0 in c:\\users\\rahul\\appdata\\roaming\\python\\python312\\site-packages (from h2==3.*->httpcore==0.9.*->httpx==0.13.3->googletrans==4.0.0-rc1) (3.0.0)\n",
      "Requirement already satisfied: aiofiles<24.0,>=22.0 in c:\\users\\rahul\\appdata\\roaming\\python\\python312\\site-packages (from gradio) (23.2.1)\n",
      "Requirement already satisfied: altair<6.0,>=4.2.0 in c:\\users\\rahul\\appdata\\roaming\\python\\python312\\site-packages (from gradio) (5.2.0)\n",
      "Requirement already satisfied: fastapi in c:\\users\\rahul\\appdata\\roaming\\python\\python312\\site-packages (from gradio) (0.112.0)\n",
      "Requirement already satisfied: ffmpy in c:\\users\\rahul\\appdata\\roaming\\python\\python312\\site-packages (from gradio) (0.4.0)\n",
      "Requirement already satisfied: gradio-client==0.10.0 in c:\\users\\rahul\\appdata\\roaming\\python\\python312\\site-packages (from gradio) (0.10.0)\n",
      "Requirement already satisfied: huggingface-hub>=0.19.3 in c:\\users\\rahul\\appdata\\roaming\\python\\python312\\site-packages (from gradio) (0.25.1)\n",
      "Requirement already satisfied: importlib-resources<7.0,>=1.3 in c:\\users\\rahul\\appdata\\roaming\\python\\python312\\site-packages (from gradio) (6.4.5)\n",
      "Requirement already satisfied: jinja2<4.0 in c:\\users\\rahul\\appdata\\roaming\\python\\python312\\site-packages (from gradio) (3.1.2)\n",
      "Requirement already satisfied: markupsafe~=2.0 in c:\\users\\rahul\\appdata\\roaming\\python\\python312\\site-packages (from gradio) (2.1.3)\n",
      "Requirement already satisfied: matplotlib~=3.0 in c:\\users\\rahul\\appdata\\roaming\\python\\python312\\site-packages (from gradio) (3.8.2)\n",
      "Requirement already satisfied: numpy~=1.0 in c:\\users\\rahul\\appdata\\roaming\\python\\python312\\site-packages (from gradio) (1.26.4)\n",
      "Requirement already satisfied: orjson~=3.0 in c:\\users\\rahul\\appdata\\roaming\\python\\python312\\site-packages (from gradio) (3.10.6)\n",
      "Requirement already satisfied: packaging in c:\\users\\rahul\\appdata\\roaming\\python\\python312\\site-packages (from gradio) (23.2)\n",
      "Requirement already satisfied: pandas<3.0,>=1.0 in c:\\users\\rahul\\appdata\\roaming\\python\\python312\\site-packages (from gradio) (2.1.4)\n",
      "Requirement already satisfied: pillow<11.0,>=8.0 in c:\\users\\rahul\\appdata\\roaming\\python\\python312\\site-packages (from gradio) (10.2.0)\n",
      "Requirement already satisfied: pydantic>=2.0 in c:\\users\\rahul\\appdata\\roaming\\python\\python312\\site-packages (from gradio) (2.8.2)\n",
      "Requirement already satisfied: pydub in c:\\users\\rahul\\appdata\\roaming\\python\\python312\\site-packages (from gradio) (0.25.1)\n",
      "Requirement already satisfied: python-multipart>=0.0.9 in c:\\users\\rahul\\appdata\\roaming\\python\\python312\\site-packages (from gradio) (0.0.9)\n",
      "Requirement already satisfied: pyyaml<7.0,>=5.0 in c:\\users\\rahul\\appdata\\roaming\\python\\python312\\site-packages (from gradio) (6.0.1)\n",
      "Requirement already satisfied: ruff>=0.1.7 in c:\\users\\rahul\\appdata\\roaming\\python\\python312\\site-packages (from gradio) (0.6.9)\n",
      "Requirement already satisfied: semantic-version~=2.0 in c:\\users\\rahul\\appdata\\roaming\\python\\python312\\site-packages (from gradio) (2.10.0)\n",
      "Requirement already satisfied: tomlkit==0.12.0 in c:\\users\\rahul\\appdata\\roaming\\python\\python312\\site-packages (from gradio) (0.12.0)\n",
      "Requirement already satisfied: typer<1.0,>=0.9 in c:\\users\\rahul\\appdata\\roaming\\python\\python312\\site-packages (from typer[all]<1.0,>=0.9->gradio) (0.12.3)\n",
      "Requirement already satisfied: typing-extensions~=4.0 in c:\\users\\rahul\\appdata\\roaming\\python\\python312\\site-packages (from gradio) (4.12.2)\n",
      "Requirement already satisfied: uvicorn>=0.14.0 in c:\\users\\rahul\\appdata\\roaming\\python\\python312\\site-packages (from gradio) (0.30.5)\n",
      "Requirement already satisfied: fsspec in c:\\users\\rahul\\appdata\\roaming\\python\\python312\\site-packages (from gradio-client==0.10.0->gradio) (2024.9.0)\n",
      "Requirement already satisfied: websockets<12.0,>=10.0 in c:\\users\\rahul\\appdata\\roaming\\python\\python312\\site-packages (from gradio-client==0.10.0->gradio) (11.0.3)\n",
      "Requirement already satisfied: jsonschema>=3.0 in c:\\users\\rahul\\appdata\\roaming\\python\\python312\\site-packages (from altair<6.0,>=4.2.0->gradio) (4.20.0)\n",
      "Requirement already satisfied: toolz in c:\\users\\rahul\\appdata\\roaming\\python\\python312\\site-packages (from altair<6.0,>=4.2.0->gradio) (0.12.1)\n",
      "Requirement already satisfied: contourpy>=1.0.1 in c:\\users\\rahul\\appdata\\roaming\\python\\python312\\site-packages (from matplotlib~=3.0->gradio) (1.2.0)\n",
      "Requirement already satisfied: cycler>=0.10 in c:\\users\\rahul\\appdata\\roaming\\python\\python312\\site-packages (from matplotlib~=3.0->gradio) (0.12.1)\n",
      "Requirement already satisfied: fonttools>=4.22.0 in c:\\users\\rahul\\appdata\\roaming\\python\\python312\\site-packages (from matplotlib~=3.0->gradio) (4.47.2)\n",
      "Requirement already satisfied: kiwisolver>=1.3.1 in c:\\users\\rahul\\appdata\\roaming\\python\\python312\\site-packages (from matplotlib~=3.0->gradio) (1.4.5)\n",
      "Requirement already satisfied: pyparsing>=2.3.1 in c:\\users\\rahul\\appdata\\roaming\\python\\python312\\site-packages (from matplotlib~=3.0->gradio) (3.1.1)\n",
      "Requirement already satisfied: python-dateutil>=2.7 in c:\\users\\rahul\\appdata\\roaming\\python\\python312\\site-packages (from matplotlib~=3.0->gradio) (2.8.2)\n",
      "Requirement already satisfied: pytz>=2020.1 in c:\\users\\rahul\\appdata\\roaming\\python\\python312\\site-packages (from pandas<3.0,>=1.0->gradio) (2023.3.post1)\n",
      "Requirement already satisfied: tzdata>=2022.1 in c:\\users\\rahul\\appdata\\roaming\\python\\python312\\site-packages (from pandas<3.0,>=1.0->gradio) (2023.3)\n",
      "Requirement already satisfied: click>=8.0.0 in c:\\users\\rahul\\appdata\\roaming\\python\\python312\\site-packages (from typer<1.0,>=0.9->typer[all]<1.0,>=0.9->gradio) (8.1.7)\n",
      "Requirement already satisfied: shellingham>=1.3.0 in c:\\users\\rahul\\appdata\\roaming\\python\\python312\\site-packages (from typer<1.0,>=0.9->typer[all]<1.0,>=0.9->gradio) (1.5.4)\n",
      "Requirement already satisfied: rich>=10.11.0 in c:\\users\\rahul\\appdata\\roaming\\python\\python312\\site-packages (from typer<1.0,>=0.9->typer[all]<1.0,>=0.9->gradio) (13.7.0)\n",
      "Requirement already satisfied: colorama in c:\\users\\rahul\\appdata\\roaming\\python\\python312\\site-packages (from click>=8.0.0->typer<1.0,>=0.9->typer[all]<1.0,>=0.9->gradio) (0.4.6)\n",
      "Requirement already satisfied: filelock in c:\\users\\rahul\\appdata\\roaming\\python\\python312\\site-packages (from huggingface-hub>=0.19.3->gradio) (3.16.0)\n",
      "Requirement already satisfied: requests in c:\\users\\rahul\\appdata\\roaming\\python\\python312\\site-packages (from huggingface-hub>=0.19.3->gradio) (2.31.0)\n",
      "Requirement already satisfied: tqdm>=4.42.1 in c:\\users\\rahul\\appdata\\roaming\\python\\python312\\site-packages (from huggingface-hub>=0.19.3->gradio) (4.66.1)\n",
      "Requirement already satisfied: attrs>=22.2.0 in c:\\users\\rahul\\anaconda3\\lib\\site-packages (from jsonschema>=3.0->altair<6.0,>=4.2.0->gradio) (23.1.0)\n",
      "Requirement already satisfied: jsonschema-specifications>=2023.03.6 in c:\\users\\rahul\\appdata\\roaming\\python\\python312\\site-packages (from jsonschema>=3.0->altair<6.0,>=4.2.0->gradio) (2023.11.2)\n",
      "Requirement already satisfied: referencing>=0.28.4 in c:\\users\\rahul\\appdata\\roaming\\python\\python312\\site-packages (from jsonschema>=3.0->altair<6.0,>=4.2.0->gradio) (0.32.0)\n",
      "Requirement already satisfied: rpds-py>=0.7.1 in c:\\users\\rahul\\appdata\\roaming\\python\\python312\\site-packages (from jsonschema>=3.0->altair<6.0,>=4.2.0->gradio) (0.13.2)\n",
      "Requirement already satisfied: annotated-types>=0.4.0 in c:\\users\\rahul\\appdata\\roaming\\python\\python312\\site-packages (from pydantic>=2.0->gradio) (0.7.0)\n",
      "Requirement already satisfied: pydantic-core==2.20.1 in c:\\users\\rahul\\appdata\\roaming\\python\\python312\\site-packages (from pydantic>=2.0->gradio) (2.20.1)\n",
      "Requirement already satisfied: six>=1.5 in c:\\users\\rahul\\appdata\\roaming\\python\\python312\\site-packages (from python-dateutil>=2.7->matplotlib~=3.0->gradio) (1.17.0)\n",
      "Requirement already satisfied: markdown-it-py>=2.2.0 in c:\\users\\rahul\\appdata\\roaming\\python\\python312\\site-packages (from rich>=10.11.0->typer<1.0,>=0.9->typer[all]<1.0,>=0.9->gradio) (3.0.0)\n",
      "Requirement already satisfied: pygments<3.0.0,>=2.13.0 in c:\\users\\rahul\\appdata\\roaming\\python\\python312\\site-packages (from rich>=10.11.0->typer<1.0,>=0.9->typer[all]<1.0,>=0.9->gradio) (2.17.2)\n",
      "Requirement already satisfied: mdurl~=0.1 in c:\\users\\rahul\\appdata\\roaming\\python\\python312\\site-packages (from markdown-it-py>=2.2.0->rich>=10.11.0->typer<1.0,>=0.9->typer[all]<1.0,>=0.9->gradio) (0.1.2)\n",
      "Requirement already satisfied: starlette<0.38.0,>=0.37.2 in c:\\users\\rahul\\appdata\\roaming\\python\\python312\\site-packages (from fastapi->gradio) (0.37.2)\n",
      "Requirement already satisfied: anyio<5,>=3.4.0 in c:\\users\\rahul\\appdata\\roaming\\python\\python312\\site-packages (from starlette<0.38.0,>=0.37.2->fastapi->gradio) (4.1.0)\n",
      "Requirement already satisfied: charset-normalizer<4,>=2 in c:\\users\\rahul\\appdata\\roaming\\python\\python312\\site-packages (from requests->huggingface-hub>=0.19.3->gradio) (3.3.2)\n",
      "Requirement already satisfied: urllib3<3,>=1.21.1 in c:\\users\\rahul\\appdata\\roaming\\python\\python312\\site-packages (from requests->huggingface-hub>=0.19.3->gradio) (2.1.0)\n",
      "Using cached h11-0.9.0-py2.py3-none-any.whl (53 kB)\n",
      "Installing collected packages: h11\n",
      "  Attempting uninstall: h11\n",
      "    Found existing installation: h11 0.14.0\n",
      "    Uninstalling h11-0.14.0:\n",
      "      Successfully uninstalled h11-0.14.0\n",
      "Successfully installed h11-0.14.0\n"
     ]
    },
    {
     "name": "stderr",
     "output_type": "stream",
     "text": [
      "WARNING: Ignoring invalid distribution ~ympy (C:\\Users\\Rahul\\anaconda3\\Lib\\site-packages)\n",
      "WARNING: typer 0.12.3 does not provide the extra 'all'\n",
      "WARNING: Error parsing dependencies of textract: .* suffix can only be used with `==` or `!=` operators\n",
      "    extract-msg (<=0.29.*)\n",
      "                 ~~~~~~~^\n",
      "WARNING: Ignoring invalid distribution ~ympy (C:\\Users\\Rahul\\anaconda3\\Lib\\site-packages)\n",
      "WARNING: Ignoring invalid distribution ~ympy (C:\\Users\\Rahul\\anaconda3\\Lib\\site-packages)\n"
     ]
    }
   ],
   "source": [
    "!pip install googletrans==4.0.0-rc1 gradio\n"
   ]
  },
  {
   "cell_type": "code",
   "execution_count": 33,
   "metadata": {
    "scrolled": true
   },
   "outputs": [
    {
     "name": "stdout",
     "output_type": "stream",
     "text": [
      "Requirement already satisfied: gradio in c:\\users\\rahul\\appdata\\roaming\\python\\python312\\site-packages (4.19.1)\n",
      "Requirement already satisfied: aiofiles<24.0,>=22.0 in c:\\users\\rahul\\appdata\\roaming\\python\\python312\\site-packages (from gradio) (23.2.1)\n",
      "Requirement already satisfied: altair<6.0,>=4.2.0 in c:\\users\\rahul\\appdata\\roaming\\python\\python312\\site-packages (from gradio) (5.2.0)\n",
      "Requirement already satisfied: fastapi in c:\\users\\rahul\\appdata\\roaming\\python\\python312\\site-packages (from gradio) (0.112.0)\n",
      "Requirement already satisfied: ffmpy in c:\\users\\rahul\\appdata\\roaming\\python\\python312\\site-packages (from gradio) (0.4.0)\n",
      "Requirement already satisfied: gradio-client==0.10.0 in c:\\users\\rahul\\appdata\\roaming\\python\\python312\\site-packages (from gradio) (0.10.0)\n",
      "Requirement already satisfied: httpx in c:\\users\\rahul\\anaconda3\\lib\\site-packages (from gradio) (0.13.3)\n",
      "Requirement already satisfied: huggingface-hub>=0.19.3 in c:\\users\\rahul\\appdata\\roaming\\python\\python312\\site-packages (from gradio) (0.25.1)\n",
      "Requirement already satisfied: importlib-resources<7.0,>=1.3 in c:\\users\\rahul\\appdata\\roaming\\python\\python312\\site-packages (from gradio) (6.4.5)\n",
      "Requirement already satisfied: jinja2<4.0 in c:\\users\\rahul\\appdata\\roaming\\python\\python312\\site-packages (from gradio) (3.1.2)\n",
      "Requirement already satisfied: markupsafe~=2.0 in c:\\users\\rahul\\appdata\\roaming\\python\\python312\\site-packages (from gradio) (2.1.3)\n",
      "Requirement already satisfied: matplotlib~=3.0 in c:\\users\\rahul\\appdata\\roaming\\python\\python312\\site-packages (from gradio) (3.8.2)\n",
      "Requirement already satisfied: numpy~=1.0 in c:\\users\\rahul\\appdata\\roaming\\python\\python312\\site-packages (from gradio) (1.26.4)\n",
      "Requirement already satisfied: orjson~=3.0 in c:\\users\\rahul\\appdata\\roaming\\python\\python312\\site-packages (from gradio) (3.10.6)\n",
      "Requirement already satisfied: packaging in c:\\users\\rahul\\appdata\\roaming\\python\\python312\\site-packages (from gradio) (23.2)\n",
      "Requirement already satisfied: pandas<3.0,>=1.0 in c:\\users\\rahul\\appdata\\roaming\\python\\python312\\site-packages (from gradio) (2.1.4)\n",
      "Requirement already satisfied: pillow<11.0,>=8.0 in c:\\users\\rahul\\appdata\\roaming\\python\\python312\\site-packages (from gradio) (10.2.0)\n",
      "Requirement already satisfied: pydantic>=2.0 in c:\\users\\rahul\\appdata\\roaming\\python\\python312\\site-packages (from gradio) (2.8.2)\n",
      "Requirement already satisfied: pydub in c:\\users\\rahul\\appdata\\roaming\\python\\python312\\site-packages (from gradio) (0.25.1)\n",
      "Requirement already satisfied: python-multipart>=0.0.9 in c:\\users\\rahul\\appdata\\roaming\\python\\python312\\site-packages (from gradio) (0.0.9)\n",
      "Requirement already satisfied: pyyaml<7.0,>=5.0 in c:\\users\\rahul\\appdata\\roaming\\python\\python312\\site-packages (from gradio) (6.0.1)\n",
      "Requirement already satisfied: ruff>=0.1.7 in c:\\users\\rahul\\appdata\\roaming\\python\\python312\\site-packages (from gradio) (0.6.9)\n",
      "Requirement already satisfied: semantic-version~=2.0 in c:\\users\\rahul\\appdata\\roaming\\python\\python312\\site-packages (from gradio) (2.10.0)\n",
      "Requirement already satisfied: tomlkit==0.12.0 in c:\\users\\rahul\\appdata\\roaming\\python\\python312\\site-packages (from gradio) (0.12.0)\n",
      "Requirement already satisfied: typer<1.0,>=0.9 in c:\\users\\rahul\\appdata\\roaming\\python\\python312\\site-packages (from typer[all]<1.0,>=0.9->gradio) (0.12.3)\n",
      "Requirement already satisfied: typing-extensions~=4.0 in c:\\users\\rahul\\appdata\\roaming\\python\\python312\\site-packages (from gradio) (4.12.2)\n",
      "Requirement already satisfied: uvicorn>=0.14.0 in c:\\users\\rahul\\appdata\\roaming\\python\\python312\\site-packages (from gradio) (0.30.5)\n",
      "Requirement already satisfied: fsspec in c:\\users\\rahul\\appdata\\roaming\\python\\python312\\site-packages (from gradio-client==0.10.0->gradio) (2024.9.0)\n",
      "Requirement already satisfied: websockets<12.0,>=10.0 in c:\\users\\rahul\\appdata\\roaming\\python\\python312\\site-packages (from gradio-client==0.10.0->gradio) (11.0.3)\n",
      "Requirement already satisfied: jsonschema>=3.0 in c:\\users\\rahul\\appdata\\roaming\\python\\python312\\site-packages (from altair<6.0,>=4.2.0->gradio) (4.20.0)\n",
      "Requirement already satisfied: toolz in c:\\users\\rahul\\appdata\\roaming\\python\\python312\\site-packages (from altair<6.0,>=4.2.0->gradio) (0.12.1)\n",
      "Requirement already satisfied: contourpy>=1.0.1 in c:\\users\\rahul\\appdata\\roaming\\python\\python312\\site-packages (from matplotlib~=3.0->gradio) (1.2.0)\n",
      "Requirement already satisfied: cycler>=0.10 in c:\\users\\rahul\\appdata\\roaming\\python\\python312\\site-packages (from matplotlib~=3.0->gradio) (0.12.1)\n",
      "Requirement already satisfied: fonttools>=4.22.0 in c:\\users\\rahul\\appdata\\roaming\\python\\python312\\site-packages (from matplotlib~=3.0->gradio) (4.47.2)\n",
      "Requirement already satisfied: kiwisolver>=1.3.1 in c:\\users\\rahul\\appdata\\roaming\\python\\python312\\site-packages (from matplotlib~=3.0->gradio) (1.4.5)\n",
      "Requirement already satisfied: pyparsing>=2.3.1 in c:\\users\\rahul\\appdata\\roaming\\python\\python312\\site-packages (from matplotlib~=3.0->gradio) (3.1.1)\n",
      "Requirement already satisfied: python-dateutil>=2.7 in c:\\users\\rahul\\appdata\\roaming\\python\\python312\\site-packages (from matplotlib~=3.0->gradio) (2.8.2)\n",
      "Requirement already satisfied: pytz>=2020.1 in c:\\users\\rahul\\appdata\\roaming\\python\\python312\\site-packages (from pandas<3.0,>=1.0->gradio) (2023.3.post1)\n",
      "Requirement already satisfied: tzdata>=2022.1 in c:\\users\\rahul\\appdata\\roaming\\python\\python312\\site-packages (from pandas<3.0,>=1.0->gradio) (2023.3)\n",
      "Requirement already satisfied: click>=8.0.0 in c:\\users\\rahul\\appdata\\roaming\\python\\python312\\site-packages (from typer<1.0,>=0.9->typer[all]<1.0,>=0.9->gradio) (8.1.7)\n",
      "Requirement already satisfied: shellingham>=1.3.0 in c:\\users\\rahul\\appdata\\roaming\\python\\python312\\site-packages (from typer<1.0,>=0.9->typer[all]<1.0,>=0.9->gradio) (1.5.4)\n",
      "Requirement already satisfied: rich>=10.11.0 in c:\\users\\rahul\\appdata\\roaming\\python\\python312\\site-packages (from typer<1.0,>=0.9->typer[all]<1.0,>=0.9->gradio) (13.7.0)\n",
      "Requirement already satisfied: colorama in c:\\users\\rahul\\appdata\\roaming\\python\\python312\\site-packages (from click>=8.0.0->typer<1.0,>=0.9->typer[all]<1.0,>=0.9->gradio) (0.4.6)\n",
      "Requirement already satisfied: filelock in c:\\users\\rahul\\appdata\\roaming\\python\\python312\\site-packages (from huggingface-hub>=0.19.3->gradio) (3.16.0)\n",
      "Requirement already satisfied: requests in c:\\users\\rahul\\appdata\\roaming\\python\\python312\\site-packages (from huggingface-hub>=0.19.3->gradio) (2.31.0)\n",
      "Requirement already satisfied: tqdm>=4.42.1 in c:\\users\\rahul\\appdata\\roaming\\python\\python312\\site-packages (from huggingface-hub>=0.19.3->gradio) (4.66.1)\n",
      "Requirement already satisfied: attrs>=22.2.0 in c:\\users\\rahul\\anaconda3\\lib\\site-packages (from jsonschema>=3.0->altair<6.0,>=4.2.0->gradio) (23.1.0)\n",
      "Requirement already satisfied: jsonschema-specifications>=2023.03.6 in c:\\users\\rahul\\appdata\\roaming\\python\\python312\\site-packages (from jsonschema>=3.0->altair<6.0,>=4.2.0->gradio) (2023.11.2)\n",
      "Requirement already satisfied: referencing>=0.28.4 in c:\\users\\rahul\\appdata\\roaming\\python\\python312\\site-packages (from jsonschema>=3.0->altair<6.0,>=4.2.0->gradio) (0.32.0)\n",
      "Requirement already satisfied: rpds-py>=0.7.1 in c:\\users\\rahul\\appdata\\roaming\\python\\python312\\site-packages (from jsonschema>=3.0->altair<6.0,>=4.2.0->gradio) (0.13.2)\n",
      "Requirement already satisfied: annotated-types>=0.4.0 in c:\\users\\rahul\\appdata\\roaming\\python\\python312\\site-packages (from pydantic>=2.0->gradio) (0.7.0)\n",
      "Requirement already satisfied: pydantic-core==2.20.1 in c:\\users\\rahul\\appdata\\roaming\\python\\python312\\site-packages (from pydantic>=2.0->gradio) (2.20.1)\n",
      "Requirement already satisfied: six>=1.5 in c:\\users\\rahul\\appdata\\roaming\\python\\python312\\site-packages (from python-dateutil>=2.7->matplotlib~=3.0->gradio) (1.17.0)\n",
      "Requirement already satisfied: markdown-it-py>=2.2.0 in c:\\users\\rahul\\appdata\\roaming\\python\\python312\\site-packages (from rich>=10.11.0->typer<1.0,>=0.9->typer[all]<1.0,>=0.9->gradio) (3.0.0)\n",
      "Requirement already satisfied: pygments<3.0.0,>=2.13.0 in c:\\users\\rahul\\appdata\\roaming\\python\\python312\\site-packages (from rich>=10.11.0->typer<1.0,>=0.9->typer[all]<1.0,>=0.9->gradio) (2.17.2)\n",
      "Requirement already satisfied: mdurl~=0.1 in c:\\users\\rahul\\appdata\\roaming\\python\\python312\\site-packages (from markdown-it-py>=2.2.0->rich>=10.11.0->typer<1.0,>=0.9->typer[all]<1.0,>=0.9->gradio) (0.1.2)\n",
      "Requirement already satisfied: h11>=0.8 in c:\\users\\rahul\\anaconda3\\lib\\site-packages (from uvicorn>=0.14.0->gradio) (0.14.0)\n",
      "Requirement already satisfied: starlette<0.38.0,>=0.37.2 in c:\\users\\rahul\\appdata\\roaming\\python\\python312\\site-packages (from fastapi->gradio) (0.37.2)\n",
      "Requirement already satisfied: anyio<5,>=3.4.0 in c:\\users\\rahul\\appdata\\roaming\\python\\python312\\site-packages (from starlette<0.38.0,>=0.37.2->fastapi->gradio) (4.1.0)\n",
      "Requirement already satisfied: idna>=2.8 in c:\\users\\rahul\\appdata\\roaming\\python\\python312\\site-packages (from anyio<5,>=3.4.0->starlette<0.38.0,>=0.37.2->fastapi->gradio) (2.10)\n",
      "Requirement already satisfied: sniffio>=1.1 in c:\\users\\rahul\\appdata\\roaming\\python\\python312\\site-packages (from anyio<5,>=3.4.0->starlette<0.38.0,>=0.37.2->fastapi->gradio) (1.3.0)\n",
      "Requirement already satisfied: certifi in c:\\users\\rahul\\appdata\\roaming\\python\\python312\\site-packages (from httpx->gradio) (2024.8.30)\n",
      "Requirement already satisfied: hstspreload in c:\\users\\rahul\\appdata\\roaming\\python\\python312\\site-packages (from httpx->gradio) (2024.4.1)\n",
      "Requirement already satisfied: chardet==3.* in c:\\users\\rahul\\appdata\\roaming\\python\\python312\\site-packages (from httpx->gradio) (3.0.4)\n",
      "Requirement already satisfied: rfc3986<2,>=1.3 in c:\\users\\rahul\\appdata\\roaming\\python\\python312\\site-packages (from httpx->gradio) (1.5.0)\n",
      "Requirement already satisfied: httpcore==0.9.* in c:\\users\\rahul\\anaconda3\\lib\\site-packages (from httpx->gradio) (0.9.1)\n",
      "Collecting h11>=0.8 (from uvicorn>=0.14.0->gradio)\n",
      "  Using cached h11-0.9.0-py2.py3-none-any.whl.metadata (8.1 kB)\n",
      "Requirement already satisfied: h2==3.* in c:\\users\\rahul\\appdata\\roaming\\python\\python312\\site-packages (from httpcore==0.9.*->httpx->gradio) (3.2.0)\n",
      "Requirement already satisfied: hyperframe<6,>=5.2.0 in c:\\users\\rahul\\appdata\\roaming\\python\\python312\\site-packages (from h2==3.*->httpcore==0.9.*->httpx->gradio) (5.2.0)\n",
      "Requirement already satisfied: hpack<4,>=3.0 in c:\\users\\rahul\\appdata\\roaming\\python\\python312\\site-packages (from h2==3.*->httpcore==0.9.*->httpx->gradio) (3.0.0)\n",
      "Requirement already satisfied: charset-normalizer<4,>=2 in c:\\users\\rahul\\appdata\\roaming\\python\\python312\\site-packages (from requests->huggingface-hub>=0.19.3->gradio) (3.3.2)\n",
      "Requirement already satisfied: urllib3<3,>=1.21.1 in c:\\users\\rahul\\appdata\\roaming\\python\\python312\\site-packages (from requests->huggingface-hub>=0.19.3->gradio) (2.1.0)\n",
      "Using cached h11-0.9.0-py2.py3-none-any.whl (53 kB)\n",
      "Installing collected packages: h11\n",
      "  Attempting uninstall: h11\n",
      "    Found existing installation: h11 None\n"
     ]
    },
    {
     "name": "stderr",
     "output_type": "stream",
     "text": [
      "WARNING: Ignoring invalid distribution ~ympy (C:\\Users\\Rahul\\anaconda3\\Lib\\site-packages)\n",
      "WARNING: typer 0.12.3 does not provide the extra 'all'\n",
      "WARNING: Error parsing dependencies of textract: .* suffix can only be used with `==` or `!=` operators\n",
      "    extract-msg (<=0.29.*)\n",
      "                 ~~~~~~~^\n",
      "WARNING: Ignoring invalid distribution ~ympy (C:\\Users\\Rahul\\anaconda3\\Lib\\site-packages)\n",
      "error: uninstall-no-record-file\n",
      "\n",
      "Cannot uninstall h11 None\n",
      "\n",
      "The package's contents are unknown: no RECORD file was found for h11.\n",
      "\n",
      "hint: You might be able to recover from this via: pip install --force-reinstall --no-deps h11==0.14.0\n"
     ]
    }
   ],
   "source": [
    "!pip install gradio\n"
   ]
  },
  {
   "cell_type": "code",
   "execution_count": 34,
   "metadata": {
    "colab": {
     "base_uri": "https://localhost:8080/"
    },
    "id": "UezzOGGPv0Gi",
    "outputId": "bc9b8c24-e215-45aa-c146-d77f1ae09acc"
   },
   "outputs": [
    {
     "name": "stdout",
     "output_type": "stream",
     "text": [
      "Model accuracy: 0.9574380165289256\n"
     ]
    }
   ],
   "source": [
    "import pandas as pd\n",
    "import numpy as np\n",
    "from sklearn.feature_extraction.text import CountVectorizer\n",
    "from sklearn.naive_bayes import MultinomialNB\n",
    "from sklearn.model_selection import train_test_split\n",
    "from googletrans import Translator\n",
    "import gradio as gr\n",
    "\n",
    "# Load the dataset\n",
    "data = pd.read_csv(\"language.csv\")\n",
    "x = np.array(data[\"Text\"])\n",
    "y = np.array(data[\"language\"])\n",
    "\n",
    "# Train-test split\n",
    "x_train, x_test, y_train, y_test = train_test_split(x, y, test_size=0.33, random_state=42)\n",
    "\n",
    "# Vectorization\n",
    "cv = CountVectorizer()\n",
    "X_train = cv.fit_transform(x_train)\n",
    "\n",
    "# Train the model\n",
    "model = MultinomialNB()\n",
    "model.fit(X_train, y_train)\n",
    "\n",
    "print(f\"Model accuracy: {model.score(cv.transform(x_test), y_test)}\")\n"
   ]
  },
  {
   "cell_type": "code",
   "execution_count": 35,
   "metadata": {
    "id": "pL-eG1LDv62t"
   },
   "outputs": [],
   "source": [
    "# Function to detect language and translate\n",
    "def detect_and_translate(user_input, target_language):\n",
    "    # Initialize the translator\n",
    "    translator = Translator()\n",
    "\n",
    "    # Detect the language of the user input\n",
    "    data_input = cv.transform([user_input]).toarray()\n",
    "    detected_language = model.predict(data_input)[0]\n",
    "\n",
    "    # Language code mapping\n",
    "    language_code_map = {\n",
    "        'English': 'en', 'Spanish': 'es', 'French': 'fr', 'German': 'de',\n",
    "        'Hindi': 'hi', 'Chinese': 'zh-cn', 'Japanese': 'ja', 'Russian': 'ru',\n",
    "        # Add all languages available in your dataset with their language codes\n",
    "    }\n",
    "\n",
    "    # Get the source language code\n",
    "    source_language_code = language_code_map.get(detected_language, 'auto')  # Default to 'auto'\n",
    "\n",
    "    # Translate the text into the target language\n",
    "    try:\n",
    "        translation = translator.translate(user_input, src=source_language_code, dest=target_language)\n",
    "        return detected_language, translation.text\n",
    "    except Exception as e:\n",
    "        return detected_language, f\"Error occurred during translation: {e}\"\n"
   ]
  },
  {
   "cell_type": "code",
   "execution_count": 36,
   "metadata": {
    "colab": {
     "base_uri": "https://localhost:8080/",
     "height": 790
    },
    "id": "tkJ5rDrgv_aT",
    "outputId": "04b586ad-2c6e-4072-d26d-79630039b377"
   },
   "outputs": [
    {
     "name": "stderr",
     "output_type": "stream",
     "text": [
      "WARNING: Ignoring invalid distribution ~ympy (C:\\Users\\Rahul\\anaconda3\\Lib\\site-packages)\n",
      "WARNING: Error parsing dependencies of textract: .* suffix can only be used with `==` or `!=` operators\n",
      "    extract-msg (<=0.29.*)\n",
      "                 ~~~~~~~^\n",
      "WARNING: Ignoring invalid distribution ~ympy (C:\\Users\\Rahul\\anaconda3\\Lib\\site-packages)\n",
      "error: uninstall-no-record-file\n",
      "\n",
      "Cannot uninstall h11 None\n",
      "\n",
      "The package's contents are unknown: no RECORD file was found for h11.\n",
      "\n",
      "hint: You might be able to recover from this via: pip install --force-reinstall --no-deps h11==0.14.0\n"
     ]
    },
    {
     "name": "stdout",
     "output_type": "stream",
     "text": [
      "Requirement already satisfied: httpx in c:\\users\\rahul\\anaconda3\\lib\\site-packages (0.13.3)\n",
      "Collecting httpx\n",
      "  Using cached httpx-0.28.1-py3-none-any.whl.metadata (7.1 kB)\n",
      "Requirement already satisfied: anyio in c:\\users\\rahul\\appdata\\roaming\\python\\python312\\site-packages (from httpx) (4.1.0)\n",
      "Requirement already satisfied: certifi in c:\\users\\rahul\\appdata\\roaming\\python\\python312\\site-packages (from httpx) (2024.8.30)\n",
      "Collecting httpcore==1.* (from httpx)\n",
      "  Downloading httpcore-1.0.9-py3-none-any.whl.metadata (21 kB)\n",
      "Requirement already satisfied: idna in c:\\users\\rahul\\appdata\\roaming\\python\\python312\\site-packages (from httpx) (2.10)\n",
      "Collecting h11>=0.16 (from httpcore==1.*->httpx)\n",
      "  Downloading h11-0.16.0-py3-none-any.whl.metadata (8.3 kB)\n",
      "Requirement already satisfied: sniffio>=1.1 in c:\\users\\rahul\\appdata\\roaming\\python\\python312\\site-packages (from anyio->httpx) (1.3.0)\n",
      "Using cached httpx-0.28.1-py3-none-any.whl (73 kB)\n",
      "Downloading httpcore-1.0.9-py3-none-any.whl (78 kB)\n",
      "Downloading h11-0.16.0-py3-none-any.whl (37 kB)\n",
      "Installing collected packages: h11, httpcore, httpx\n",
      "\n",
      "  Attempting uninstall: h11\n",
      "\n",
      "    Found existing installation: h11 None\n",
      "\n",
      "   ---------------------------------------- 0/3 [h11]\n",
      "\n",
      "Running on local URL:  http://127.0.0.1:7860\n",
      "\n",
      "To create a public link, set `share=True` in `launch()`.\n"
     ]
    },
    {
     "data": {
      "text/html": [
       "<div><iframe src=\"http://127.0.0.1:7860/\" width=\"100%\" height=\"500\" allow=\"autoplay; camera; microphone; clipboard-read; clipboard-write;\" frameborder=\"0\" allowfullscreen></iframe></div>"
      ],
      "text/plain": [
       "<IPython.core.display.HTML object>"
      ]
     },
     "metadata": {},
     "output_type": "display_data"
    },
    {
     "data": {
      "text/plain": []
     },
     "execution_count": 36,
     "metadata": {},
     "output_type": "execute_result"
    }
   ],
   "source": [
    "!pip install httpx --upgrade\n",
    "# Create the Gradio interface with a light theme\n",
    "iface = gr.Interface(\n",
    "    fn=detect_and_translate,\n",
    "    inputs=[\n",
    "        gr.Textbox(label=\"Input Text\"),\n",
    "        gr.Textbox(label=\"Target Language Code (e.g., 'en', 'hi')\"),\n",
    "    ],\n",
    "    outputs=[\n",
    "        gr.Textbox(label=\"Detected Language\"),\n",
    "        gr.Textbox(label=\"Translation\"),\n",
    "    ],\n",
    "    title=\"Language Detection and Translation\",\n",
    "    description=\"Enter a text to detect its language and translate it to the target language.\",\n",
    "    theme=\"default\"  # Use 'default' for a light theme\n",
    ")\n",
    "\n",
    "# Launch the interface\n",
    "iface.launch(share=False) # Remove share=True or set to False to avoid the error"
   ]
  },
  {
   "cell_type": "code",
   "execution_count": null,
   "metadata": {},
   "outputs": [],
   "source": []
  }
 ],
 "metadata": {
  "colab": {
   "provenance": []
  },
  "kernelspec": {
   "display_name": "Python 3 (ipykernel)",
   "language": "python",
   "name": "python3"
  },
  "language_info": {
   "codemirror_mode": {
    "name": "ipython",
    "version": 3
   },
   "file_extension": ".py",
   "mimetype": "text/x-python",
   "name": "python",
   "nbconvert_exporter": "python",
   "pygments_lexer": "ipython3",
   "version": "3.12.4"
  },
  "widgets": {
   "application/vnd.jupyter.widget-state+json": {
    "state": {},
    "version_major": 2,
    "version_minor": 0
   }
  }
 },
 "nbformat": 4,
 "nbformat_minor": 4
}
