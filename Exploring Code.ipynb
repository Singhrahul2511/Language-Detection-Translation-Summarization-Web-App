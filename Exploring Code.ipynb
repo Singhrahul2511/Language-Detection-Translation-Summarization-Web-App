{
 "cells": [
  {
   "cell_type": "markdown",
   "id": "dddc2b87",
   "metadata": {},
   "source": [
    "#  Language Translation \n",
    "\n",
    "\n",
    "Language translation is the process of converting text or speech from one language to another while preserving its meaning and context. This involves using linguistic and computational techniques to interpret the source language and generate the equivalent content in the target language. Modern translation methods often employ machine learning models and neural networks for accuracy and fluency.\n",
    "\n",
    "\n",
    "\n",
    "# We have two problems\n",
    "\n",
    "\n",
    "# First Problem: Language Detection \n",
    "\n",
    "The first problem is to know how you can detect language for particular data. In this case, you can use a simple python package called langdetect.\n",
    "\n",
    "\n",
    "supports 55 languages\n",
    "\n",
    "af, ar, bg, bn, ca, cs, cy, da, de, el, en, es, et, fa, fi, fr, gu, he,\n",
    "hi, hr, hu, id, it, ja, kn, ko, lt, lv, mk, ml, mr, ne, nl, no, pa, pl,\n",
    "pt, ro, ru, sk, sl, so, sq, sv, sw, ta, te, th, tl, tr, uk, ur, vi, zh-cn, zh-tw\n",
    "\n",
    "\n",
    "pip install langdetect\n",
    "\n",
    "\n",
    "\n",
    "# Second Problem: Language Translation\n",
    "\n",
    "\n",
    "The second problem you need to solve is to translate a text from one language to the language of your choice. In this case, you will use another useful python package called google_trans_new.\n",
    "\n",
    "\n",
    "google_trans_new is a free and unlimited python package that implemented Google Translate API and It also performs auto language detection.\n",
    "\n",
    "Install google_trans_new\n",
    "\n",
    "\n",
    "but it has some issues so we will use alternatives....\n",
    "\n",
    "\n",
    "pip install googletrans==4.0.0-rc1\n",
    "\n",
    "\n",
    "\n"
   ]
  },
  {
   "cell_type": "markdown",
   "id": "a3e5ffc9",
   "metadata": {},
   "source": [
    "# Language Detection"
   ]
  },
  {
   "cell_type": "code",
   "execution_count": 25,
   "id": "72f26982",
   "metadata": {},
   "outputs": [
    {
     "name": "stdout",
     "output_type": "stream",
     "text": [
      "Detect Language : ur\n",
      "Probability  [ur:0.999999246445326]\n"
     ]
    }
   ],
   "source": [
    "from langdetect import detect,detect_langs,DetectorFactory\n",
    "DetectorFactory.seed = 0\n",
    "\n",
    "\n",
    "sentence = \"آج کا دن بہت خوبصورت ہے\"\n",
    "\n",
    "print(\"Detect Language :\", detect(sentence))\n",
    "print(\"Probability \",detect_langs(sentence))"
   ]
  },
  {
   "cell_type": "code",
   "execution_count": 26,
   "id": "6f877aa4",
   "metadata": {},
   "outputs": [
    {
     "name": "stdout",
     "output_type": "stream",
     "text": [
      "Detect Language: hi\n",
      "Probability: [hi:0.9999977479090416]\n"
     ]
    }
   ],
   "source": [
    "sentence = \"आज का दिन बहुत खूबसूरत है\"\n",
    "\n",
    "print(\"Detect Language:\", detect(sentence))\n",
    "print(\"Probability:\", detect_langs(sentence))"
   ]
  },
  {
   "cell_type": "code",
   "execution_count": 27,
   "id": "16aed43a",
   "metadata": {},
   "outputs": [
    {
     "name": "stdout",
     "output_type": "stream",
     "text": [
      "Detect Language: en\n",
      "Probability: [en:0.9999970122854227]\n"
     ]
    }
   ],
   "source": [
    "sentence = \"it is very pleasant today\"\n",
    "\n",
    "print(\"Detect Language:\", detect(sentence))\n",
    "print(\"Probability:\", detect_langs(sentence))"
   ]
  },
  {
   "cell_type": "markdown",
   "id": "8c7ddee3",
   "metadata": {},
   "source": [
    "# Language Translation"
   ]
  },
  {
   "cell_type": "code",
   "execution_count": 29,
   "id": "5e767b24",
   "metadata": {},
   "outputs": [
    {
     "name": "stdout",
     "output_type": "stream",
     "text": [
      "Translated Text: Today is a very beautiful day\n"
     ]
    }
   ],
   "source": [
    "from googletrans import Translator\n",
    "\n",
    "translator = Translator()\n",
    "\n",
    "sentence = \"آج کا دن بہت خوبصورت ہے\"\n",
    "translate_text = translator.translate(sentence, src='ur', dest='en')\n",
    "\n",
    "print(\"Translated Text:\", translate_text.text)\n"
   ]
  },
  {
   "cell_type": "code",
   "execution_count": 30,
   "id": "04cc2cf1",
   "metadata": {},
   "outputs": [
    {
     "name": "stdout",
     "output_type": "stream",
     "text": [
      "Translated Text: today is a very beautiful day\n"
     ]
    }
   ],
   "source": [
    "sentence =  \"आज का दिन बहुत खूबसूरत है\"\n",
    "translate_text = translator.translate(sentence, src='hi', dest='en')\n",
    "\n",
    "print(\"Translated Text:\", translate_text.text)"
   ]
  },
  {
   "cell_type": "markdown",
   "id": "1272dc35",
   "metadata": {},
   "source": [
    "# Detections and translation both"
   ]
  },
  {
   "cell_type": "code",
   "execution_count": 32,
   "id": "0a3d3af4",
   "metadata": {},
   "outputs": [],
   "source": [
    "from langdetect import detect\n",
    "from googletrans import Translator\n",
    "\n",
    "def detect_and_translate(text, target_lang):\n",
    "    # Detect language\n",
    "    result_lang = detect(text)\n",
    "    \n",
    "    # Translate language\n",
    "    translator = Translator()\n",
    "    translate_text = translator.translate(text, dest=target_lang).text\n",
    "\n",
    "    return result_lang, translate_text "
   ]
  },
  {
   "cell_type": "code",
   "execution_count": 33,
   "id": "d5a51d47",
   "metadata": {},
   "outputs": [
    {
     "name": "stdout",
     "output_type": "stream",
     "text": [
      "Language: hi\n",
      "Translation: today is a very beautiful day\n"
     ]
    }
   ],
   "source": [
    "# example 1\n",
    "# Sample sentence in Hindi\n",
    "sentence = \"आज का दिन बहुत खूबसूरत है\"\n",
    "\n",
    "# Detect and translate\n",
    "result_lang, translate_text = detect_and_translate(sentence, target_lang='en')\n",
    "\n",
    "print(\"Language:\", result_lang)\n",
    "print(\"Translation:\", translate_text)"
   ]
  },
  {
   "cell_type": "code",
   "execution_count": 34,
   "id": "2959e1a4",
   "metadata": {},
   "outputs": [
    {
     "name": "stdout",
     "output_type": "stream",
     "text": [
      "Language: ur\n",
      "Translation: i love you\n"
     ]
    }
   ],
   "source": [
    "# example 1\n",
    "# Sample sentence in urdu\n",
    "sentence = \"مجھے تم سے پیار ہے\"\n",
    "\n",
    "# Detect and translate\n",
    "result_lang, translate_text = detect_and_translate(sentence, target_lang='en')\n",
    "\n",
    "print(\"Language:\", result_lang)\n",
    "print(\"Translation:\", translate_text)"
   ]
  },
  {
   "cell_type": "code",
   "execution_count": 35,
   "id": "e06906db",
   "metadata": {},
   "outputs": [
    {
     "name": "stdout",
     "output_type": "stream",
     "text": [
      "Language: en\n",
      "Translation: हम टेक्नोलॉजी के युग में जी रहे हैं.\n"
     ]
    }
   ],
   "source": [
    "# example 1\n",
    "# Sample sentence in \n",
    "sentence = \"We are living in the era of technology.\"\n",
    "# Detect and translate\n",
    "result_lang, translate_text = detect_and_translate(sentence, target_lang='hindi')\n",
    "\n",
    "print(\"Language:\", result_lang)\n",
    "print(\"Translation:\", translate_text)"
   ]
  },
  {
   "cell_type": "code",
   "execution_count": 36,
   "id": "f9bccead-eaea-467b-8412-e3d699f0e703",
   "metadata": {},
   "outputs": [],
   "source": [
    "import os\n",
    "\n",
    "# Create a 'templates' directory if it doesn't exist\n",
    "if not os.path.exists(\"templates\"):\n",
    "    os.makedirs(\"templates\")\n"
   ]
  },
  {
   "cell_type": "code",
   "execution_count": null,
   "id": "bf3ad886-859b-493e-ae9f-2829ea45bfb1",
   "metadata": {},
   "outputs": [],
   "source": []
  },
  {
   "cell_type": "code",
   "execution_count": null,
   "id": "22d14acb-2f96-4b21-b77a-fa6cdddc4b52",
   "metadata": {},
   "outputs": [],
   "source": []
  }
 ],
 "metadata": {
  "kernelspec": {
   "display_name": "Python 3 (ipykernel)",
   "language": "python",
   "name": "python3"
  },
  "language_info": {
   "codemirror_mode": {
    "name": "ipython",
    "version": 3
   },
   "file_extension": ".py",
   "mimetype": "text/x-python",
   "name": "python",
   "nbconvert_exporter": "python",
   "pygments_lexer": "ipython3",
   "version": "3.12.4"
  }
 },
 "nbformat": 4,
 "nbformat_minor": 5
}
